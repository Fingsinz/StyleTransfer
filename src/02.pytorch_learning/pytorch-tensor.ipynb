{
 "cells": [
  {
   "cell_type": "markdown",
   "id": "9e828249-77c3-4db7-982e-286398cc44cf",
   "metadata": {},
   "source": [
    "---\n",
    "title: PyTorch 张量\n",
    "keywords: PyTorch\n",
    "desc: PyTorch Tensor\n",
    "date: 2025-02-07\n",
    "id: pytorch_tensor\n",
    "---"
   ]
  },
  {
   "cell_type": "markdown",
   "id": "2972226a-a888-4f63-bb0e-a21a6820ef81",
   "metadata": {},
   "source": [
    "Reference: [Zero to Mastery Learn PyTorch for Deep Learning](https://www.learnpytorch.io/)"
   ]
  },
  {
   "cell_type": "markdown",
   "id": "c71be68e-050f-4d9a-a3e0-2f616dd263ce",
   "metadata": {},
   "source": [
    "*该页面为 Jupyter Notebook 生成，原文件于 [Github](https://github.com/Fingsinz/StyleTransfer/tree/main/src/02.pytorch_learning/pytorch-tensor.ipynb)*"
   ]
  },
  {
   "cell_type": "code",
   "execution_count": 1,
   "id": "d99f719c-4077-485d-8fb7-377114dac393",
   "metadata": {},
   "outputs": [
    {
     "data": {
      "text/plain": [
       "'2.5.1+cu124'"
      ]
     },
     "execution_count": 1,
     "metadata": {},
     "output_type": "execute_result"
    }
   ],
   "source": [
    "import torch\n",
    "torch.__version__"
   ]
  },
  {
   "cell_type": "markdown",
   "id": "2c7a6f43-0c3b-4618-b1a8-64f6a2baf99b",
   "metadata": {},
   "source": [
    "## 什么是张量"
   ]
  },
  {
   "cell_type": "markdown",
   "id": "75db32bf-5a15-46e3-bd13-725c8ac1d297",
   "metadata": {},
   "source": [
    "张量用于表示数据，是机器学习的基本组成部分。\n",
    "\n",
    "- 图片可以是三维张量，如 `[height, width, channel]`，如经典的 lena 图片用张量表示："
   ]
  },
  {
   "cell_type": "code",
   "execution_count": 2,
   "id": "7033a7a9-137c-494f-866d-92b254068486",
   "metadata": {},
   "outputs": [
    {
     "data": {
      "text/plain": [
       "torch.Size([500, 500, 3])"
      ]
     },
     "execution_count": 2,
     "metadata": {},
     "output_type": "execute_result"
    }
   ],
   "source": [
    "import numpy as np\n",
    "from PIL import Image\n",
    "# 使用 pillow 打开图片, 转换为 numpy 矩阵, 再转换为 torch 张量\n",
    "img = torch.from_numpy(np.array(Image.open(\"imgs/lena.jpg\")))\n",
    "img.shape"
   ]
  },
  {
   "cell_type": "markdown",
   "id": "0fe44d9f-c803-498c-9003-36a5c02f148c",
   "metadata": {},
   "source": [
    "## 创建张量"
   ]
  },
  {
   "cell_type": "markdown",
   "id": "db5f81fc-03dc-4401-a7d6-1462f103ac6a",
   "metadata": {},
   "source": [
    "Tensors说明文档：[https://pytorch.org/docs/stable/tensors.html](https://pytorch.org/docs/stable/tensors.html)"
   ]
  },
  {
   "cell_type": "markdown",
   "id": "f9b3a4b6-8ed1-4017-a729-a78dd727c5f9",
   "metadata": {},
   "source": [
    "1. Scalar，标量是一个单独的数字，用张量的术语来说是一个零维张量。"
   ]
  },
  {
   "cell_type": "code",
   "execution_count": 3,
   "id": "f643bcb0-0ef9-47af-8ee1-d8334384c672",
   "metadata": {},
   "outputs": [
    {
     "name": "stdout",
     "output_type": "stream",
     "text": [
      "scalar为3.0, 维度为0, 常量通过item方法获取3.0数字\n"
     ]
    }
   ],
   "source": [
    "scalar = torch.tensor(3.0)\n",
    "# 维度同样可以通过 tensor.dim() 获取\n",
    "print(f\"scalar为{scalar}, 维度为{scalar.ndim}, 常量通过item方法获取{scalar.item()}数字\")"
   ]
  },
  {
   "cell_type": "markdown",
   "id": "3e453c90-3bf8-4cfa-838a-eafc5db56cb0",
   "metadata": {},
   "source": [
    "2. Vector，向量是一个一维张量，类似于数组。"
   ]
  },
  {
   "cell_type": "code",
   "execution_count": 4,
   "id": "38f14d54-a720-4b2d-8236-5e8d6ddeb744",
   "metadata": {},
   "outputs": [
    {
     "name": "stdout",
     "output_type": "stream",
     "text": [
      "vector为tensor([1., 2., 3.]), 维度为1, 通过shape属性获取形状torch.Size([3])\n"
     ]
    }
   ],
   "source": [
    "vector = torch.tensor([1.0, 2.0, 3.0])\n",
    "print(f\"vector为{vector}, 维度为{vector.ndim}, 通过shape属性获取形状{vector.shape}\")"
   ]
  },
  {
   "cell_type": "markdown",
   "id": "a930e45d-1631-430a-b0f2-df6804937360",
   "metadata": {},
   "source": [
    "3. Matrix，矩阵是一个二维张量。"
   ]
  },
  {
   "cell_type": "code",
   "execution_count": 5,
   "id": "03cde7e8-8423-4585-99d5-7992a8c3d396",
   "metadata": {},
   "outputs": [
    {
     "name": "stdout",
     "output_type": "stream",
     "text": [
      "tensor([[1., 2., 3.],\n",
      "        [4., 5., 6.]]), \n",
      "维度为2, 通过shape属性获取形状torch.Size([2, 3])\n"
     ]
    }
   ],
   "source": [
    "matrix = torch.tensor([[1.0, 2.0, 3.0], [4.0, 5.0, 6.0]])\n",
    "print(f\"{matrix}, \\n维度为{matrix.ndim}, 通过shape属性获取形状{matrix.shape}\")"
   ]
  },
  {
   "cell_type": "markdown",
   "id": "50dd9195-c9ba-4d34-9661-459aada0fcc4",
   "metadata": {},
   "source": [
    "总结：\n",
    "\n",
    "| 结构 | 表示 | 维度 |\n",
    "|:-:|:-:|:-:|\n",
    "| scalar | 一个数字 | 0 |\n",
    "| vector | 一组数字| 1 |\n",
    "| matrix | 一个矩阵| 2 |\n",
    "| tensor| 若干维度 | 0维表示scalar，每一维表示一个vector |"
   ]
  },
  {
   "cell_type": "markdown",
   "id": "6a2fafb6-606a-44a9-aa1c-232562edb652",
   "metadata": {},
   "source": [
    "### `torch.rand()` 生成随机张量"
   ]
  },
  {
   "cell_type": "markdown",
   "id": "388793b0-3619-4b48-be56-a96ecdd00eb3",
   "metadata": {},
   "source": [
    "实际上在机器学习中很少会手动创建张量，更多是随机生成。"
   ]
  },
  {
   "cell_type": "code",
   "execution_count": 6,
   "id": "00916206-c904-4085-aa99-39dd9fda27d4",
   "metadata": {},
   "outputs": [
    {
     "data": {
      "text/plain": [
       "(tensor([[0.3467, 0.2830, 0.2079, 0.1919],\n",
       "         [0.8412, 0.7202, 0.9083, 0.1247],\n",
       "         [0.0241, 0.2289, 0.6623, 0.6389]]),\n",
       " torch.float32)"
      ]
     },
     "execution_count": 6,
     "metadata": {},
     "output_type": "execute_result"
    }
   ],
   "source": [
    "# 创建指定大小的随机张量\n",
    "random_tensor = torch.rand(size=(3, 4))\n",
    "random_tensor, random_tensor.dtype"
   ]
  },
  {
   "cell_type": "markdown",
   "id": "239a3488-0dce-4d6a-9853-3d47c3b3a86e",
   "metadata": {},
   "source": [
    "### 填充全零或全一张量"
   ]
  },
  {
   "cell_type": "code",
   "execution_count": 7,
   "id": "26e0df74-e3e7-4142-8851-d210a641f6f0",
   "metadata": {},
   "outputs": [
    {
     "data": {
      "text/plain": [
       "(tensor([[1., 1., 1., 1.],\n",
       "         [1., 1., 1., 1.],\n",
       "         [1., 1., 1., 1.]]),\n",
       " torch.float32)"
      ]
     },
     "execution_count": 7,
     "metadata": {},
     "output_type": "execute_result"
    }
   ],
   "source": [
    "zeros = torch.zeros(size=(3, 4))\n",
    "ones = torch.ones(size=(3, 4))\n",
    "zeros, zeros.dtype\n",
    "ones, ones.dtype"
   ]
  },
  {
   "cell_type": "markdown",
   "id": "f26c137c-22cf-455e-9a98-70c412da1afa",
   "metadata": {},
   "source": [
    "### 创建一个范围张量"
   ]
  },
  {
   "cell_type": "code",
   "execution_count": 8,
   "id": "fd5fc6f4-d250-4c38-b87a-60d64b6a7376",
   "metadata": {},
   "outputs": [
    {
     "data": {
      "text/plain": [
       "(tensor([0, 1, 2, 3, 4, 5, 6, 7, 8, 9]), torch.int64)"
      ]
     },
     "execution_count": 8,
     "metadata": {},
     "output_type": "execute_result"
    }
   ],
   "source": [
    "# 创建一个从0到9的张量的两种方法\n",
    "# zero_to_ten1 = torch.range(0, 10) # 将弃用\n",
    "zero_to_ten2 = torch.arange(start=0, end=10, step=1)\n",
    "# zero_to_ten1, zero_to_ten1.dtype\n",
    "zero_to_ten2, zero_to_ten2.dtype"
   ]
  },
  {
   "cell_type": "code",
   "execution_count": 9,
   "id": "bc1b7603-4edb-40e5-94f7-6680585d44cf",
   "metadata": {},
   "outputs": [
    {
     "data": {
      "text/plain": [
       "(tensor([0, 0, 0, 0, 0, 0, 0, 0, 0, 0]), torch.int64)"
      ]
     },
     "execution_count": 9,
     "metadata": {},
     "output_type": "execute_result"
    }
   ],
   "source": [
    "#创建一个形状一样的向量\n",
    "same_shape = torch.zeros_like(input=zero_to_ten2)\n",
    "same_shape, same_shape.dtype"
   ]
  },
  {
   "cell_type": "markdown",
   "id": "c64d6208-59f6-4b93-8f0c-0167851ee652",
   "metadata": {},
   "source": [
    "## 张量数据类型"
   ]
  },
  {
   "cell_type": "markdown",
   "id": "49e9745d-5c2e-4c30-92b3-e14acaa3f89b",
   "metadata": {},
   "source": [
    "Tensor 的 DataTypes：[https://pytorch.org/docs/stable/tensors.html#data-types](https://pytorch.org/docs/stable/tensors.html#data-types)"
   ]
  },
  {
   "cell_type": "markdown",
   "id": "48ae6a3f-1b71-4c40-afa0-5c0212ad64d3",
   "metadata": {},
   "source": [
    "有些数据类型是特定于CPU，而有些更适合GPU。同时确保精度问题，可以选用不同精度的浮点数类型。"
   ]
  },
  {
   "cell_type": "code",
   "execution_count": 10,
   "id": "a1074d25-5c65-43fa-88b5-6a079c3064d2",
   "metadata": {},
   "outputs": [
    {
     "data": {
      "text/plain": [
       "(torch.Size([3]), torch.float32, device(type='cpu'))"
      ]
     },
     "execution_count": 10,
     "metadata": {},
     "output_type": "execute_result"
    }
   ],
   "source": [
    "float32_tensor = torch.tensor([3.0, 6.0, 9.0],\n",
    "                              dtype=None,  # 默认为None，即torch。Float32或传递的任何数据类型\n",
    "                              device=None, # 默认为None，使用默认的张量类型\n",
    "                              requires_grad=False) # 如果为True，则记录对张量执行的操作\n",
    "float32_tensor.shape, float32_tensor.dtype, float32_tensor.device"
   ]
  },
  {
   "cell_type": "markdown",
   "id": "fda472dc-ac61-4f86-9da8-14e7bbf97871",
   "metadata": {},
   "source": [
    "可以修改张量的数据类型："
   ]
  },
  {
   "cell_type": "code",
   "execution_count": 11,
   "id": "3c894e39-1a18-458b-9b1a-37f007382a62",
   "metadata": {},
   "outputs": [
    {
     "data": {
      "text/plain": [
       "torch.float64"
      ]
     },
     "execution_count": 11,
     "metadata": {},
     "output_type": "execute_result"
    }
   ],
   "source": [
    "float64_tensor = float32_tensor.type(torch.float64)\n",
    "float64_tensor.dtype"
   ]
  },
  {
   "cell_type": "markdown",
   "id": "24239dad-5879-4cde-9473-ba4b41ff322c",
   "metadata": {},
   "source": [
    "在进行带张量的操作时，除了张量的 Shape 要匹配之外，还需要注意张量的 dtype 和 device。\n",
    "\n",
    "- `tensor.shape`：获取 Shape。\n",
    "- `tensor.dtype`：获取 dtype。\n",
    "- `tensor.device`：获取 device。"
   ]
  },
  {
   "cell_type": "markdown",
   "id": "93e6d4d3-01c4-4f2d-b472-51caea4caea1",
   "metadata": {},
   "source": [
    "## 张量的操作"
   ]
  },
  {
   "cell_type": "markdown",
   "id": "43ec2ab9-b3a3-4d10-a05b-2993ad61e042",
   "metadata": {},
   "source": [
    "### 张量的基础操作"
   ]
  },
  {
   "cell_type": "markdown",
   "id": "db0ea5da-d0e2-4b6b-b555-ca6bf788690f",
   "metadata": {},
   "source": [
    "张量的加减乘操作如下："
   ]
  },
  {
   "cell_type": "code",
   "execution_count": 12,
   "id": "2fa8877f-8c5c-403f-b4dc-9aa4c0faffcd",
   "metadata": {},
   "outputs": [
    {
     "data": {
      "text/plain": [
       "(tensor([11, 12, 13]),\n",
       " tensor([10, 20, 30]),\n",
       " tensor([0, 1, 2]),\n",
       " tensor([1, 2, 3]))"
      ]
     },
     "execution_count": 12,
     "metadata": {},
     "output_type": "execute_result"
    }
   ],
   "source": [
    "test_tensor = torch.tensor([1, 2, 3])\n",
    "test_tensor + 10, test_tensor * 10, test_tensor - 1, test_tensor # 在不赋值的时候是不变的"
   ]
  },
  {
   "cell_type": "markdown",
   "id": "a1b6ffb9-2add-4142-83d0-ad9a3feb5cd3",
   "metadata": {},
   "source": [
    "也可以通过函数实现："
   ]
  },
  {
   "cell_type": "code",
   "execution_count": 13,
   "id": "0c75ec25-87aa-40f5-987e-4ee0c8de0ebb",
   "metadata": {},
   "outputs": [
    {
     "data": {
      "text/plain": [
       "(tensor([11, 12, 13]), tensor([10, 20, 30]), tensor([0, 1, 2]))"
      ]
     },
     "execution_count": 13,
     "metadata": {},
     "output_type": "execute_result"
    }
   ],
   "source": [
    "torch.add(test_tensor, 10), torch.mul(test_tensor, 10), torch.sub(test_tensor, 1)"
   ]
  },
  {
   "cell_type": "markdown",
   "id": "9fbe525f-61f6-41d2-906f-7cd7e1aef38b",
   "metadata": {},
   "source": [
    "注意，**矩阵乘法遵循其规则，与形状相关。**\n",
    "\n",
    "$$\n",
    "M_{m\\times n} = M_{m\\times k} @ M_{k\\times n}\n",
    "$$\n",
    "\n",
    "*`@` 在 Python 中是矩阵乘法*"
   ]
  },
  {
   "cell_type": "code",
   "execution_count": 14,
   "id": "1b50094f-6808-42f8-93bc-4f756eeebe20",
   "metadata": {},
   "outputs": [
    {
     "data": {
      "text/plain": [
       "(tensor([1, 4, 9]), tensor(14), tensor(14))"
      ]
     },
     "execution_count": 14,
     "metadata": {},
     "output_type": "execute_result"
    }
   ],
   "source": [
    "tensor = torch.tensor([1, 2, 3])\n",
    "tensor * tensor, tensor @ tensor, torch.matmul(tensor, tensor)\n",
    "# torch.matmul是矩阵乘法，且比 @ 操作更快"
   ]
  },
  {
   "cell_type": "markdown",
   "id": "a76b51b7-ccce-4440-a1d3-6304a22dafa9",
   "metadata": {},
   "source": [
    "- $[1, 2, 3] * [1, 2, 3] = [1 * 1, 2 * 2, 3 * 3] = [1, 4, 9]$\n",
    "- $[1, 2, 3] @ [1, 2, 3] = 1 * 1 + 2 * 2 + 3 * 3 = 14$"
   ]
  },
  {
   "cell_type": "markdown",
   "id": "2de31382-6b57-431f-a66b-8c223ceb26a0",
   "metadata": {},
   "source": [
    "`torch.mm()` 是 `torch.matmul()` 的缩写。另外提供一些操作进行矩阵变换：\n",
    "\n",
    "- `torch.transpose(input, dim0, dim1)`，`input` 是输入矩阵，`dim0` 和 `dim1` 是要交换的维度。\n",
    "- `torch.T`：转置矩阵。"
   ]
  },
  {
   "cell_type": "markdown",
   "id": "415772b5-d877-492e-b995-7f95c392c55b",
   "metadata": {},
   "source": [
    "### 求最小值、最大值、平均值、总和等"
   ]
  },
  {
   "cell_type": "code",
   "execution_count": 15,
   "id": "2fc8f162-4cce-44fb-be04-5e3edea98a42",
   "metadata": {},
   "outputs": [
    {
     "name": "stdout",
     "output_type": "stream",
     "text": [
      "tensor([ 0, 10, 20, 30, 40, 50, 60, 70, 80, 90])\n",
      "最小值: 0\n",
      "最大值: 90\n",
      "均值: 45.0\n",
      "总和: 450\n"
     ]
    }
   ],
   "source": [
    "x = torch.arange(0, 100, 10)\n",
    "print(x)\n",
    "print(f\"最小值: {x.min()}\")\n",
    "print(f\"最大值: {x.max()}\")\n",
    "# print(f\"Mean: {x.mean()}\") # 会报错\n",
    "print(f\"均值: {x.type(torch.float32).mean()}\") # 没有float数据类型将无法工作\n",
    "print(f\"总和: {x.sum()}\")"
   ]
  },
  {
   "cell_type": "markdown",
   "id": "86a95165-a417-4f9a-b073-adc540b0c6a2",
   "metadata": {},
   "source": [
    "*一些方法，如torch.mean()，要求张量位于torch.float32（最常见）或其他特定数据类型中，否则操作将失败。*"
   ]
  },
  {
   "cell_type": "markdown",
   "id": "d2210648-23e5-4ff8-9789-6edcd531d89d",
   "metadata": {},
   "source": [
    "### 求最小最大值的位置"
   ]
  },
  {
   "cell_type": "code",
   "execution_count": 16,
   "id": "1fd9821f-60b5-4245-af4a-a01138181e45",
   "metadata": {},
   "outputs": [
    {
     "name": "stdout",
     "output_type": "stream",
     "text": [
      "tensor([ 0, 10, 20, 30, 40, 50, 60, 70, 80, 90])\n",
      "Index where max value occurs: 9\n",
      "Index where min value occurs: 0\n"
     ]
    }
   ],
   "source": [
    "print(x)\n",
    "print(f\"Index where max value occurs: {x.argmax()}\")\n",
    "print(f\"Index where min value occurs: {x.argmin()}\")"
   ]
  },
  {
   "cell_type": "markdown",
   "id": "629643ed-a34e-433d-984e-baa22aa915ee",
   "metadata": {},
   "source": [
    "### 张量形状重塑、堆叠、挤压和扩展"
   ]
  },
  {
   "cell_type": "markdown",
   "id": "d35eb7ff-3dfb-4085-9a07-c7524b6de5f4",
   "metadata": {},
   "source": [
    "因为深度学习模型（神经网络）都是关于以某种方式操纵张量的。因为矩阵乘法的规则，如果有形状不匹配，就会遇到错误。这些方法帮助你确保你的张量的正确元素与其他张量的正确元素混合在一起。"
   ]
  },
  {
   "cell_type": "markdown",
   "id": "60b70886-47a6-4cde-8faf-c95c1e9b1b23",
   "metadata": {},
   "source": [
    "| 方法 | 描述 |\n",
    "|:-:|:-:|\n",
    "| [torch.reshape(input, shape)](https://pytorch.org/docs/stable/generated/torch.reshape.html#torch.reshape) 或 `torch.Tensor.reshape()` | 在兼容的情况下把 `input` 重塑成 `shape` 的形状 |\n",
    "| [Tensor.view(shape)](https://pytorch.org/docs/stable/generated/torch.Tensor.view.html) | 以不同的形状返回原始张量的视图，但与原始张量共享相同的数据 |\n",
    "| [torch.stack(tensors, dim=0)](https://pytorch.org/docs/1.9.1/generated/torch.stack.html) | 沿着一个新的维度 `dim` 连接一系列张量，所有张量必须是相同的大小 |\n",
    "| [torch.squeeze(input)](https://pytorch.org/docs/stable/generated/torch.squeeze.html) | 挤压 `input`，删除值为1的所有维度 |\n",
    "| [torch.unsqueeze(input, dim)](https://pytorch.org/docs/1.9.1/generated/torch.unsqueeze.html) | 在 `dim` 处添加值为1的维度并返回 |\n",
    "| [torch.permute(input, dims)](https://pytorch.org/docs/stable/generated/torch.permute.html) | 返回原始输入的视图，其维度重新排列 |"
   ]
  },
  {
   "cell_type": "markdown",
   "id": "f41f410b-efe9-46d3-8248-76895843574c",
   "metadata": {},
   "source": [
    "`tensor.reshape()`："
   ]
  },
  {
   "cell_type": "code",
   "execution_count": 17,
   "id": "c6e12c87-7359-4d6d-bee4-942686b1783b",
   "metadata": {},
   "outputs": [
    {
     "name": "stdout",
     "output_type": "stream",
     "text": [
      "x.shape: torch.Size([8]), x_reshaped.shape: torch.Size([1, 8])\n"
     ]
    }
   ],
   "source": [
    "import torch\n",
    "\n",
    "x = torch.arange(1., 9.)\n",
    "\n",
    "x_reshaped = x.reshape(1, 8) # 重塑\n",
    "print(f\"x.shape: {x.shape}, x_reshaped.shape: {x_reshaped.shape}\")"
   ]
  },
  {
   "cell_type": "markdown",
   "id": "84ef8759-d7f6-4408-9a0c-f9827d37a935",
   "metadata": {},
   "source": [
    "`tensor.view()`：改变视图也会改变原来的张量。"
   ]
  },
  {
   "cell_type": "code",
   "execution_count": 18,
   "id": "3e859fa7-d31d-4173-b0a1-e22e0f55d4c0",
   "metadata": {},
   "outputs": [
    {
     "name": "stdout",
     "output_type": "stream",
     "text": [
      "x.shape: torch.Size([8]), x_viewed.shape: torch.Size([2, 4])\n",
      "tensor([5., 2., 3., 4., 5., 6., 7., 8.])\n",
      "tensor([[5., 2., 3., 4.],\n",
      "        [5., 6., 7., 8.]])\n"
     ]
    }
   ],
   "source": [
    "x_viewed = x.view(2, 4) # 重塑\n",
    "print(f\"x.shape: {x.shape}, x_viewed.shape: {x_viewed.shape}\")\n",
    "\n",
    "# 修改 x_viewd, x 同步变化\n",
    "x_viewed[:, 0] = 5\n",
    "print(x)\n",
    "print(x_viewed)"
   ]
  },
  {
   "cell_type": "markdown",
   "id": "be88d356-40db-4c00-8a57-d34a655be366",
   "metadata": {},
   "source": [
    "用该函数改变一个张量的视图实际上只会创建同一个张量的新视图。"
   ]
  },
  {
   "cell_type": "markdown",
   "id": "2c38c461-7013-4a90-8df2-a9f26491d3ea",
   "metadata": {},
   "source": [
    "如果想要将新张量在自身之上堆叠五次，可以使用 `torch.stack()` 来实现。"
   ]
  },
  {
   "cell_type": "code",
   "execution_count": 19,
   "id": "f8e747b3-0562-4bc3-808e-48097cc48004",
   "metadata": {},
   "outputs": [
    {
     "data": {
      "text/plain": [
       "tensor([[5., 2., 3., 4., 5., 6., 7., 8.],\n",
       "        [5., 2., 3., 4., 5., 6., 7., 8.],\n",
       "        [5., 2., 3., 4., 5., 6., 7., 8.],\n",
       "        [5., 2., 3., 4., 5., 6., 7., 8.]])"
      ]
     },
     "execution_count": 19,
     "metadata": {},
     "output_type": "execute_result"
    }
   ],
   "source": [
    "x_stacked = torch.stack([x, x, x, x], dim=0)\n",
    "x_stacked"
   ]
  },
  {
   "cell_type": "markdown",
   "id": "c3e91d2a-8d3c-4b66-9651-3a277df02655",
   "metadata": {},
   "source": [
    "同时可以移除单维度："
   ]
  },
  {
   "cell_type": "code",
   "execution_count": 20,
   "id": "aeedff30-865e-4d57-965c-e28f3e6a6baf",
   "metadata": {},
   "outputs": [
    {
     "name": "stdout",
     "output_type": "stream",
     "text": [
      "torch.Size([1, 8])\n",
      "torch.Size([8])\n"
     ]
    }
   ],
   "source": [
    "print(x_reshaped.shape)\n",
    "x_squzzed = x_reshaped.squeeze()\n",
    "print(x_squzzed.shape)"
   ]
  },
  {
   "cell_type": "markdown",
   "id": "72eefe2e-4409-424f-a123-e23c631a8629",
   "metadata": {},
   "source": [
    "与 `torch.squeeze()` 相反，可以使用 `torch.unsqueeze()` 在特定索引处添加一个维度值 1："
   ]
  },
  {
   "cell_type": "code",
   "execution_count": 21,
   "id": "00c932a6-ffde-4c12-8bf8-de9fa7db5501",
   "metadata": {},
   "outputs": [
    {
     "name": "stdout",
     "output_type": "stream",
     "text": [
      "torch.Size([8])\n",
      "torch.Size([1, 8])\n"
     ]
    }
   ],
   "source": [
    "print(x_squzzed.shape)\n",
    "x_unsquzzed = x_squzzed.unsqueeze(dim=0)\n",
    "print(x_unsquzzed.shape)"
   ]
  },
  {
   "cell_type": "markdown",
   "id": "bfda7ce5-3f78-4190-ada8-563bbf989c3e",
   "metadata": {},
   "source": [
    "`torch.permute(input, dims)` 重排张量的维度："
   ]
  },
  {
   "cell_type": "code",
   "execution_count": 22,
   "id": "ef7bdd4d-8a30-4e90-bc94-b4fb64f0063e",
   "metadata": {},
   "outputs": [
    {
     "data": {
      "text/plain": [
       "(torch.Size([128, 256, 3]), torch.Size([3, 128, 256]))"
      ]
     },
     "execution_count": 22,
     "metadata": {},
     "output_type": "execute_result"
    }
   ],
   "source": [
    "img = torch.rand(size=(128, 256, 3))\n",
    "\n",
    "img_permuted = img.permute(2, 0, 1)\n",
    "\n",
    "img.shape, img_permuted.shape"
   ]
  },
  {
   "cell_type": "markdown",
   "id": "b442c9ba-1640-4a2c-8203-730377c06926",
   "metadata": {},
   "source": [
    "### 张量取下标"
   ]
  },
  {
   "cell_type": "code",
   "execution_count": 23,
   "id": "c4d8dda2-7527-4691-a297-6066d6b40554",
   "metadata": {},
   "outputs": [
    {
     "name": "stdout",
     "output_type": "stream",
     "text": [
      "tensor([[[1, 2, 3],\n",
      "         [4, 5, 6],\n",
      "         [7, 8, 9]]]), torch.Size([1, 3, 3])\n",
      "x[0]: \n",
      "tensor([[1, 2, 3],\n",
      "        [4, 5, 6],\n",
      "        [7, 8, 9]])\n",
      "x[0][0]: tensor([1, 2, 3])\n",
      "x[0][0][0]: 1\n"
     ]
    }
   ],
   "source": [
    "import torch\n",
    "x = torch.arange(1, 10).reshape(1, 3, 3)\n",
    "print(f\"{x}, {x.shape}\")\n",
    "\n",
    "print(f\"x[0]: \\n{x[0]}\") \n",
    "print(f\"x[0][0]: {x[0][0]}\") \n",
    "print(f\"x[0][0][0]: {x[0][0][0]}\")"
   ]
  },
  {
   "cell_type": "markdown",
   "id": "5d064140-ac21-4047-a1f9-f0b715d4b059",
   "metadata": {},
   "source": [
    "*可以使用 `:` 来指定此维度中的所有值，使用逗号 `,` 来添加另一个维度。*"
   ]
  },
  {
   "cell_type": "markdown",
   "id": "544e66e5-2fb3-4525-9c9b-cce23f3eb5b4",
   "metadata": {},
   "source": [
    "## Pytorch 张量和 Numpy"
   ]
  },
  {
   "cell_type": "markdown",
   "id": "2a48a8c3-17f0-4f71-8789-7c8a806229c7",
   "metadata": {},
   "source": [
    "NumPy 和 PyTorch 数据结构互转：\n",
    "\n",
    "- Numpy Array -> PyTorch Tensor：`torch.from_numpy(ndarray)`。\n",
    "- PyTorch Tensor -> Numpy Array：`torch.Tensor.numpy()`。"
   ]
  },
  {
   "cell_type": "markdown",
   "id": "51f5eea1-2c87-463a-ab51-147916f5b2b2",
   "metadata": {},
   "source": [
    "## Tensor 随机值"
   ]
  },
  {
   "cell_type": "markdown",
   "id": "b107de10-c439-4827-a835-aa134facce0a",
   "metadata": {},
   "source": [
    "`torch.rand()` 方法可以生成一个给定大小而值随机的张量，但是每次生成都会不一样。如果需要每次随机都一样，需要固定下随机数种子。"
   ]
  },
  {
   "cell_type": "code",
   "execution_count": 24,
   "id": "f749be07-f5e1-4dc9-a180-267cac36c943",
   "metadata": {},
   "outputs": [
    {
     "name": "stdout",
     "output_type": "stream",
     "text": [
      "Tensor A:\n",
      "tensor([[0.8823, 0.9150, 0.3829, 0.9593],\n",
      "        [0.3904, 0.6009, 0.2566, 0.7936],\n",
      "        [0.9408, 0.1332, 0.9346, 0.5936]])\n",
      "\n",
      "Tensor B:\n",
      "tensor([[0.8823, 0.9150, 0.3829, 0.9593],\n",
      "        [0.3904, 0.6009, 0.2566, 0.7936],\n",
      "        [0.9408, 0.1332, 0.9346, 0.5936]])\n",
      "\n",
      "A == B?\n",
      "tensor([[True, True, True, True],\n",
      "        [True, True, True, True],\n",
      "        [True, True, True, True]])\n"
     ]
    }
   ],
   "source": [
    "import torch\n",
    "import random\n",
    "\n",
    "RANDOM_SEED=42\n",
    "torch.manual_seed(seed=RANDOM_SEED) \n",
    "random_tensor_A = torch.rand(3, 4)\n",
    "\n",
    "torch.random.manual_seed(seed=RANDOM_SEED)\n",
    "random_tensor_B = torch.rand(3, 4)\n",
    "\n",
    "print(f\"Tensor A:\\n{random_tensor_A}\\n\")\n",
    "print(f\"Tensor B:\\n{random_tensor_B}\\n\")\n",
    "print(f\"A == B?\")\n",
    "print(random_tensor_A == random_tensor_B)"
   ]
  },
  {
   "cell_type": "markdown",
   "id": "092b9fe6-38ee-46ba-8eda-e0bd3412a286",
   "metadata": {},
   "source": [
    "## GPU 下使用张量"
   ]
  },
  {
   "cell_type": "markdown",
   "id": "8d19ea7f-b679-4a8f-87ce-d1f7555a59f0",
   "metadata": {},
   "source": [
    "导入 PyTorch："
   ]
  },
  {
   "cell_type": "code",
   "execution_count": 25,
   "id": "8686f46f-6cac-4770-b452-ddf55a22c006",
   "metadata": {},
   "outputs": [
    {
     "data": {
      "text/plain": [
       "True"
      ]
     },
     "execution_count": 25,
     "metadata": {},
     "output_type": "execute_result"
    }
   ],
   "source": [
    "import torch\n",
    "torch.cuda.is_available()"
   ]
  },
  {
   "cell_type": "markdown",
   "id": "f63ee6e3-dbc0-4298-a706-d50fd9887207",
   "metadata": {},
   "source": [
    "设置设备类型："
   ]
  },
  {
   "cell_type": "code",
   "execution_count": 26,
   "id": "2e40cde9-b01a-4955-b496-4a626f17563f",
   "metadata": {},
   "outputs": [
    {
     "data": {
      "text/plain": [
       "'cuda'"
      ]
     },
     "execution_count": 26,
     "metadata": {},
     "output_type": "execute_result"
    }
   ],
   "source": [
    "# Set device type\n",
    "device = \"cuda\" if torch.cuda.is_available() else \"cpu\"\n",
    "device"
   ]
  },
  {
   "cell_type": "markdown",
   "id": "079e37bd-8dcd-4dd2-9ed0-dd14a51b0d5b",
   "metadata": {},
   "source": [
    "检查设备数："
   ]
  },
  {
   "cell_type": "code",
   "execution_count": 27,
   "id": "665039c5-dbc4-4323-80eb-e4c2a2257f45",
   "metadata": {},
   "outputs": [
    {
     "data": {
      "text/plain": [
       "1"
      ]
     },
     "execution_count": 27,
     "metadata": {},
     "output_type": "execute_result"
    }
   ],
   "source": [
    "torch.cuda.device_count()"
   ]
  },
  {
   "cell_type": "markdown",
   "id": "8161db72-924b-49e4-be7b-af0d39b633a5",
   "metadata": {},
   "source": [
    "### 张量在 CPU 和 GPU 间移动"
   ]
  },
  {
   "cell_type": "markdown",
   "id": "bbd4688d-e56c-42ca-831f-b438ab978efd",
   "metadata": {},
   "source": [
    "通过调用 `to(device)` 将张量（和模型）放在特定的设备上。\n",
    "\n",
    "GPU 可以提供比 CPU 更快的数值计算，但有时候某些操作不支持在 GPU 中执行，所以需要将张量进行移动。"
   ]
  },
  {
   "cell_type": "markdown",
   "id": "3d36f6b1-f478-4e52-b484-9fbda76fc766",
   "metadata": {},
   "source": [
    "张量移动到 GPU 侧："
   ]
  },
  {
   "cell_type": "code",
   "execution_count": 28,
   "id": "1bfe9e82-f112-48cd-953b-38b030296f09",
   "metadata": {},
   "outputs": [
    {
     "name": "stdout",
     "output_type": "stream",
     "text": [
      "tensor([1, 2, 3]) cpu\n",
      "tensor([1, 2, 3], device='cuda:0')\n"
     ]
    }
   ],
   "source": [
    "tensor = torch.tensor([1, 2, 3])\n",
    "\n",
    "print(tensor, tensor.device)\n",
    "\n",
    "tensor_on_gpu = tensor.to(device)\n",
    "print(tensor_on_gpu)"
   ]
  },
  {
   "cell_type": "markdown",
   "id": "b2f9bf08-6154-4246-acb4-6e610c650c4d",
   "metadata": {},
   "source": [
    "张量移动到 CPU 侧：通过使用 `tensor.CPU()`"
   ]
  },
  {
   "cell_type": "code",
   "execution_count": 29,
   "id": "5fa017a9-92f0-41f4-bddb-5bf6a026e0c8",
   "metadata": {},
   "outputs": [
    {
     "name": "stdout",
     "output_type": "stream",
     "text": [
      "tensor([1, 2, 3])\n",
      "tensor([1, 2, 3], device='cuda:0')\n"
     ]
    }
   ],
   "source": [
    "tensor_back_on_cpu = tensor_on_gpu.cpu()\n",
    "print(tensor_back_on_cpu)\n",
    "\n",
    "# 上面的代码返回CPU内存中GPU张量的副本，原始张量仍然在GPU上。\n",
    "print(tensor_on_gpu)"
   ]
  }
 ],
 "metadata": {
  "kernelspec": {
   "display_name": "Python 3 (ipykernel)",
   "language": "python",
   "name": "python3"
  },
  "language_info": {
   "codemirror_mode": {
    "name": "ipython",
    "version": 3
   },
   "file_extension": ".py",
   "mimetype": "text/x-python",
   "name": "python",
   "nbconvert_exporter": "python",
   "pygments_lexer": "ipython3",
   "version": "3.11.4"
  }
 },
 "nbformat": 4,
 "nbformat_minor": 5
}
